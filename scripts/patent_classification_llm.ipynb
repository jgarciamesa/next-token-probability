{
 "cells": [
  {
   "cell_type": "markdown",
   "id": "7d80d457-2263-4e37-a263-71d702d9ec9e",
   "metadata": {
    "jp-MarkdownHeadingCollapsed": true
   },
   "source": [
    "## With LLama2-13b-Chat-HF"
   ]
  },
  {
   "cell_type": "code",
   "execution_count": 1,
   "id": "88d84e87-16d3-45aa-a951-1ebc3bed17c0",
   "metadata": {},
   "outputs": [
    {
     "name": "stderr",
     "output_type": "stream",
     "text": [
      "/packages/envs/genai23.10/lib/python3.11/site-packages/tqdm/auto.py:21: TqdmWarning: IProgress not found. Please update jupyter and ipywidgets. See https://ipywidgets.readthedocs.io/en/stable/user_install.html\n",
      "  from .autonotebook import tqdm as notebook_tqdm\n"
     ]
    }
   ],
   "source": [
    "from transformers import LlamaTokenizer, LlamaForCausalLM, AutoConfig\n",
    "import torch"
   ]
  },
  {
   "cell_type": "code",
   "execution_count": 2,
   "id": "592c568f-9d36-4caa-9f5a-7293b99cee67",
   "metadata": {},
   "outputs": [],
   "source": [
    "import numpy as np"
   ]
  },
  {
   "cell_type": "code",
   "execution_count": 3,
   "id": "c9683b9f-8344-4cec-8f50-917e9edf6a60",
   "metadata": {},
   "outputs": [
    {
     "name": "stderr",
     "output_type": "stream",
     "text": [
      "Loading checkpoint shards: 100%|██████████| 6/6 [01:22<00:00, 13.75s/it]\n"
     ]
    }
   ],
   "source": [
    "#model_id = f\"/scratch/dshah47/.cache/licensed_models/Llama2-70b-chat-hf/\"\n",
    "model_id = f\"/scratch/dshah47/.cache/licensed_models/Llama2-13b-chat-hf/\"\n",
    "tokenizer = LlamaTokenizer.from_pretrained(model_id)\n",
    "\n",
    "model = LlamaForCausalLM.from_pretrained(model_id,\n",
    "                                         # trust_remote_code=True,\n",
    "                                         torch_dtype=torch.bfloat16,\n",
    "                                         #load_in_8bit=True,\n",
    "                                         device_map=\"auto\"\n",
    "                                        )"
   ]
  },
  {
   "cell_type": "code",
   "execution_count": 4,
   "id": "b27260b2-bac0-43f5-aef5-5f5e627d2ae4",
   "metadata": {},
   "outputs": [],
   "source": [
    "input_ids = \"cuda\""
   ]
  },
  {
   "cell_type": "code",
   "execution_count": 5,
   "id": "a7bd285a-f306-4a88-9b67-8cee1c30b1bc",
   "metadata": {},
   "outputs": [],
   "source": [
    "inputs = tokenizer([\"You are a expert asked to classify text from a patent according to why the inventor may have used a scientific article in their invention. I will give you a chunk of text from a patent, and a reference that appears in the chunk. You will respond with ONE WORD ONLY: given that underlying distribution, return 'Tool' if you believe the reference was used a tool or technique by the inventor to make the invention, and 'Background' if it is general background knowledge, an unsolved problem the invention will tackle, a reason the invention was created, or a potential use case. \"],\n",
    "                  return_tensors=\"pt\")\n",
    "#The reference we care about is by HENRISSAT. The patent in question is titled Cellulolytic enzyme compositions and uses thereof.  The extract of text citing that article is: o-1,4-(1,3;1,4)-beta-D-glucan 4-glucanohydrolase (E.C. 3.2.1.4) that catalyzes endohydrolysis of 1,4-beta-D-glycosidic linkages in cellulose, cellulose derivatives (such as carboxymethyl cellulose and hydroxyethyl cellulose), lichenin, beta-1,4 bonds in mixed beta-1,3 glucans such as cereal beta-D-glucans or xyloglucans, and other plant material containing cellulosic components. Endoglucanase activity can be determined by measuring reduction in substrate viscosity or increase in reducing ends determined by a reducing sugar assay (Zhang et al., 2006,  Biotechnology Advances  24: 452-481). For purposes of the present invention, endoglucanase activity is determined using carboxymethyl cellulose (CMC) as substrate according to the procedure of Ghose, 1987 , Pure and Appl. Chem.  59: 257-268, at pH 5, 40Â° C. Family 61 glycoside hydrolase: The term â€œFamily 61 glycoside hydrolaseâ€ or â€œFamily GH61â€ or â€œGH61â€ means a polypeptide falling into the glycoside hydrolase Family 61 according to Henrissat B., 1991, A classification of glycosyl hydrolases based on amino-acid sequence similarities,  Biochem. J.  280: 309-316, and Henrissat and Bairoch, 1996, Updating the sequence-based classification of glycosyl hydrolases,  Biochem. J.  316: 695-696. The enzymes in this family were originally classified as a glycoside hydrolase family based on measurement of very weak endo-1,4-beta-D-glucanase activity in one family member. The structure and mode of action of these enzymes are non-canonical and they cannot be considered as bona fide glycosidases. However, they are kept in the CAZy classification on the basis of their capacity to enhance the breakdown of cellulose when used in conjunction with a cellulase or a mixture of cellulases. Hemicellulolytic enzyme or hemicellulase: The term â€œhemicellulolytic enzymeâ€ or â€œhemicellulaseâ€ means one or more (e.g., several) enzymes that hydrolyze a hemicellulosic material. See, for example, Shallom and Shoham, 2003, Microbial hemicellulases.  Current Opinion In Microbiology  6(3): 219-228). Hemicellulases are key components in the degradation of plant biomass. Examples of hemicellulases include,\"],"
   ]
  },
  {
   "cell_type": "code",
   "execution_count": 120,
   "id": "40e2d106-65e1-4afa-a863-74a7c81053ad",
   "metadata": {},
   "outputs": [],
   "source": [
    "inputs = tokenizer([\"<<SYS>>Role: You are a expert asked to classify text from a patent according to why the inventor may have used a scientific article in their invention. I will give you a chunk of text from a patent, and a reference that appears in the chunk. You will respond with ONE WORD ONLY: given that underlying distribution, return 'Tool' if you believe the reference was used a tool or technique by the inventor to make the invention, and 'Background' if it is general background knowledge, an unsolved problem the invention will tackle, a reason the invention was created, or a potential use case. Remember, reply ONLY with Tool or Background.<</SYS>>> o-1,4-(1,3;1,4)-beta-D-glucan 4-glucanohydrolase (E.C. 3.2.1.4) that catalyzes endohydrolysis of 1,4-beta-D-glycosidic linkages in cellulose, cellulose derivatives (such as carboxymethyl cellulose and hydroxyethyl cellulose), lichenin, beta-1,4 bonds in mixed beta-1,3 glucans such as cereal beta-D-glucans or xyloglucans, and other plant material containing cellulosic components. Endoglucanase activity can be determined by measuring reduction in substrate viscosity or increase in reducing ends determined by a reducing sugar assay (Zhang et al., 2006,  Biotechnology Advances  24: 452-481). For purposes of the present invention, endoglucanase activity is determined using carboxymethyl cellulose (CMC) as substrate according to the procedure of Ghose, 1987 , Pure and Appl. Chem.  59: 257-268, at pH 5, 40Â° C.\"],\n",
    "                  return_tensors=\"pt\")\n",
    "\n",
    "#inputs = tokenizer([\"Today is the best\"], return_tensors=\"pt\")"
   ]
  },
  {
   "cell_type": "code",
   "execution_count": 8,
   "id": "5ed5033e-9617-4257-ba94-fcb81a528808",
   "metadata": {},
   "outputs": [],
   "source": [
    "prompt = '''<<SYS>>\n",
    "You are a expert asked to classify text from a patent according to why the inventor may have used a scientific article in their invention. I will give you a chunk of text from a patent, and a reference that appears in the chunk. You will respond with ONE WORD ONLY: given that underlying distribution, return 'Tool' if you believe the reference was used a tool or technique by the inventor to make the invention, and 'Background' if it is general background knowledge, an unsolved problem the invention will tackle, a reason the invention was created, or a potential use case. Remember, reply ONLY with Tool or Background.\\n\n",
    "<</SYS>>\n",
    "[INST]\n",
    "User:The reference we care about is by HENRISSAT. The patent in question is titled Cellulolytic enzyme compositions and uses thereof.  The extract of text citing that article is: o-1,4-(1,3;1,4)-beta-D-glucan 4-glucanohydrolase (E.C. 3.2.1.4) that catalyzes endohydrolysis of 1,4-beta-D-glycosidic linkages in cellulose, cellulose derivatives (such as carboxymethyl cellulose and hydroxyethyl cellulose), lichenin, beta-1,4 bonds in mixed beta-1,3 glucans such as cereal beta-D-glucans or xyloglucans, and other plant material containing cellulosic components. Endoglucanase activity can be determined by measuring reduction in substrate viscosity or increase in reducing ends determined by a reducing sugar assay (Zhang et al., 2006,  Biotechnology Advances  24: 452-481). For purposes of the present invention, endoglucanase activity is determined using carboxymethyl cellulose (CMC) as substrate according to the procedure of Ghose, 1987 , Pure and Appl. Chem.  59: 257-268, at pH 5, 40Â° C. \n",
    "     Family 61 glycoside hydrolase: The term â€œFamily 61 glycoside hydrolaseâ€ or â€œFamily GH61â€ or â€œGH61â€ means a polypeptide falling into the glycoside hydrolase Family 61 according to Henrissat B., 1991, A classification of glycosyl hydrolases based on amino-acid sequence similarities,  Biochem. J.  280: 309-316, and Henrissat and Bairoch, 1996, Updating the sequence-based classification of glycosyl hydrolases,  Biochem. J.  316: 695-696. The enzymes in this family were originally classified as a glycoside hydrolase family based on measurement of very weak endo-1,4-beta-D-glucanase activity in one family member. The structure and mode of action of these enzymes are non-canonical and they cannot be considered as bona fide glycosidases. However, they are kept in the CAZy classification on the basis of their capacity to enhance the breakdown of cellulose when used in conjunction with a cellulase or a mixture of cellulases. \n",
    "[/INST]\\n\n",
    "Assistant:'''\n",
    "\n",
    "inputs = tokenizer([prompt],\n",
    "                   return_tensors=\"pt\")"
   ]
  },
  {
   "cell_type": "code",
   "execution_count": 9,
   "id": "ed099ca5-d3d2-4e18-9f24-272b3d8bd902",
   "metadata": {},
   "outputs": [],
   "source": [
    "tokenizer.pad_token_id = tokenizer.eos_token_id\n",
    "\n",
    "output = model.generate(\n",
    "    **inputs,\n",
    "    max_new_tokens=1,\n",
    "    return_dict_in_generate=True,\n",
    "    output_scores=True,\n",
    "    do_sample=True,\n",
    "    kwargs={\"temperature\": 0}\n",
    ")"
   ]
  },
  {
   "cell_type": "code",
   "execution_count": 10,
   "id": "e502bc18-2afd-4cff-bf4e-3498f770df3a",
   "metadata": {},
   "outputs": [
    {
     "name": "stdout",
     "output_type": "stream",
     "text": [
      "| 21704 | Tool     | -2.4984 | 8.22%\n"
     ]
    }
   ],
   "source": [
    "transition_scores = model.compute_transition_scores(\n",
    "    output.sequences, output.scores, normalize_logits=True\n",
    ")\n",
    "input_length = inputs.input_ids.shape[1]\n",
    "generated_tokens = output.sequences[:, input_length:]\n",
    "for tok, score in zip(generated_tokens[0], transition_scores[0]):\n",
    "    # | token | token string | logits | probability\n",
    "    print(f\"| {tok:5d} | {tokenizer.decode(tok):8s} | {score.numpy():.4f} | {np.exp(score.numpy()):.2%}\")\n",
    "# Expected output:"
   ]
  },
  {
   "cell_type": "markdown",
   "id": "23e43cb1-caa3-4fb2-b8e1-b28cd42af623",
   "metadata": {
    "jp-MarkdownHeadingCollapsed": true
   },
   "source": [
    "## With Llama3-Xb-Instruct"
   ]
  },
  {
   "cell_type": "code",
   "execution_count": 1,
   "id": "b271d081-947e-4fff-aa24-f3a8bc66cf88",
   "metadata": {},
   "outputs": [
    {
     "name": "stderr",
     "output_type": "stream",
     "text": [
      "/packages/envs/genai23.10/lib/python3.11/site-packages/tqdm/auto.py:21: TqdmWarning: IProgress not found. Please update jupyter and ipywidgets. See https://ipywidgets.readthedocs.io/en/stable/user_install.html\n",
      "  from .autonotebook import tqdm as notebook_tqdm\n"
     ]
    }
   ],
   "source": [
    "from transformers import AutoTokenizer, AutoModelForCausalLM\n",
    "import numpy as np\n",
    "import torch\n",
    "import os"
   ]
  },
  {
   "cell_type": "code",
   "execution_count": 2,
   "id": "32f1cefb-8358-4517-9d5c-3bc86fc6f1b4",
   "metadata": {},
   "outputs": [
    {
     "name": "stderr",
     "output_type": "stream",
     "text": [
      "Special tokens have been added in the vocabulary, make sure the associated word embeddings are fine-tuned or trained.\n",
      "Loading checkpoint shards: 100%|██████████| 30/30 [05:24<00:00, 10.80s/it]\n"
     ]
    }
   ],
   "source": [
    "os.environ['HUGGINGFACE_HUB_CACHE'] = \"/scratch/dshah47/.cache/\"\n",
    "\n",
    "model_id = os.environ['HUGGINGFACE_HUB_CACHE'] + \"licensed_models/Llama3-70b-instruct/\"\n",
    "# model_id = os.environ['HUGGINGFACE_HUB_CACHE'] + \"licensed_models/Llama3-8b-instruct/\"\n",
    "\n",
    "tokenizer = AutoTokenizer.from_pretrained(model_id)\n",
    "\n",
    "model = AutoModelForCausalLM.from_pretrained(model_id,\n",
    "                                             torch_dtype=torch.bfloat16,\n",
    "                                             device_map=\"auto\"#,\n",
    "                                             #load_in_8bit=True\n",
    "                                            )"
   ]
  },
  {
   "cell_type": "code",
   "execution_count": 3,
   "id": "88badcd5-af6b-4902-b4dc-f6661841c037",
   "metadata": {},
   "outputs": [],
   "source": [
    "def setup_inputs(question):\n",
    "    system_prompt = \"You are an expert asked to classify text from a patent according to why the inventor may have used a scientific article in their invention. I will give you a chunk of text from a patent, and a reference that appears in the chunk. You will respond with ONE WORD ONLY: return 'Tool' if you believe the reference was used by a tool or technique by the inventor to make the invention, or 'Background' if it is general background knowledge, an unsolved problem the invention will tackle, a reason the invention was created, or a potential use case. Remember, reply ONLY with Tool or Background.\"\n",
    "    prompt = f\"<|begin_of_text|><|start_header_id|>system<|end_header_id|>{system_prompt}<|eot_id|><|start_header_id|>user<|end_header_id|>Text:{question}<|eot_id|><|start_header_id|>Expert: <|end_header_id|>\"\n",
    "\n",
    "    #prompt = f'''<<SYS>>\n",
    "    #You are an expert asked to classify text from a patent according to why the inventor may have used a scientific article in their invention. I will give you a chunk of text from a patent, and a reference that appears in the chunk. You will respond with ONE WORD ONLY: given that underlying distribution, return 'Tool' if you believe the reference was used a tool or technique by the inventor to make the invention, and 'Background' if it is general background knowledge, an unsolved problem the invention will tackle, a reason the invention was created, or a potential use case. Remember, reply ONLY with Tool or Background.\\n\n",
    "    #<</SYS>>\n",
    "    #[INST]\n",
    "    #User:{question}\n",
    "    #[/INST]\\n\n",
    "    #Assistant:'''\n",
    "\n",
    "    inputs = tokenizer([prompt],\n",
    "                   return_tensors=\"pt\")\n",
    "    return(inputs)"
   ]
  },
  {
   "cell_type": "code",
   "execution_count": 10,
   "id": "9ed3e3ac-193c-4b02-8887-4cc57e5485d3",
   "metadata": {},
   "outputs": [],
   "source": [
    "def next_token(model, tokenizer, question):\n",
    "\n",
    "    inputs = setup_inputs(question)\n",
    "    inputs.to(\"cuda\")\n",
    "\n",
    "    output = model.generate(\n",
    "        **inputs,\n",
    "        max_new_tokens=5,\n",
    "        return_dict_in_generate=True,\n",
    "        output_scores=True,\n",
    "        do_sample=True,\n",
    "        kwargs={\"temperature\": 0},\n",
    "        eos_token_id=tokenizer.eos_token_id,\n",
    "        pad_token_id=tokenizer.eos_token_id,\n",
    "        bos_token_id=tokenizer.bos_token_id\n",
    "    )\n",
    "    transition_scores = model.compute_transition_scores(\n",
    "        output.sequences,\n",
    "        output.scores,\n",
    "        normalize_logits=True\n",
    "    )\n",
    "    input_length = inputs.input_ids.shape[1]\n",
    "    generated_tokens = output.sequences[:, input_length:]\n",
    "    for tok, score in zip(generated_tokens[0], transition_scores[0]):\n",
    "        # | token string | probability\n",
    "        token_str = tokenizer.decode(tok).split()\n",
    "        if not token_str:\n",
    "            continue\n",
    "        token_str = token_str[0]\n",
    "        if token_str in [\"<|start_header_id|>\", \"<|eot_id|>\"] or not token_str:\n",
    "            continue\n",
    "        if token_str.lower() == 'tool':\n",
    "            p = f\"{np.exp(score.cpu().numpy()):.2}\"\n",
    "        elif token_str.lower() == 'background':\n",
    "            p = f\"{1-np.exp(score.cpu().numpy()):.2}\"\n",
    "        else:\n",
    "            p = \"NA\"\n",
    "        print(f\"{token_str}, {p}\")"
   ]
  },
  {
   "cell_type": "code",
   "execution_count": 15,
   "id": "8e891eca-1b83-4be4-a038-408fcb7b1afb",
   "metadata": {},
   "outputs": [
    {
     "name": "stdout",
     "output_type": "stream",
     "text": [
      "assistant, NA\n",
      "<|end_header_id|>, NA\n",
      "Tool, 1.0\n"
     ]
    }
   ],
   "source": [
    "question = \"The reference we care about is by HENRISSAT. The patent in question is titled Cellulolytic enzyme compositions and uses thereof.  The extract of text citing that article is: o-1,4-(1,3;1,4)-beta-D-glucan 4-glucanohydrolase (E.C. 3.2.1.4) that catalyzes endohydrolysis of 1,4-beta-D-glycosidic linkages in cellulose, cellulose derivatives (such as carboxymethyl cellulose and hydroxyethyl cellulose), lichenin, beta-1,4 bonds in mixed beta-1,3 glucans such as cereal beta-D-glucans or xyloglucans, and other plant material containing cellulosic components. Endoglucanase activity can be determined by measuring reduction in substrate viscosity or increase in reducing ends determined by a reducing sugar assay (Zhang et al., 2006,  Biotechnology Advances  24: 452-481). For purposes of the present invention, endoglucanase activity is determined using carboxymethyl cellulose (CMC) as substrate according to the procedure of Ghose, 1987 , Pure and Appl. Chem.  59: 257-268, at pH 5, 40°C. Family 61 glycoside hydrolase: The term Family 61 glycoside hydrolase or Family GH61 or GH61 means a polypeptide falling into the glycoside hydrolase Family 61 according to Henrissat B., 1991, A classification of glycosyl hydrolases based on amino-acid sequence similarities,  Biochem. J.  280: 309-316, and Henrissat and Bairoch, 1996, Updating the sequence-based classification of glycosyl hydrolases,  Biochem. J.  316: 695-696. The enzymes in this family were originally classified as a glycoside hydrolase family based on measurement of very weak endo-1,4-beta-D-glucanase activity in one family member. The structure and mode of action of these enzymes are non-canonical and they cannot be considered as bona fide glycosidases. However, they are kept in the CAZy classification on the basis of their capacity to enhance the breakdown of cellulose when used in conjunction with a cellulase or a mixture of cellulases.\"\n",
    "next_token(model, tokenizer, question)"
   ]
  },
  {
   "cell_type": "code",
   "execution_count": 16,
   "id": "1303f1bc-d63d-402e-8c86-27f46b0fbf4f",
   "metadata": {},
   "outputs": [
    {
     "name": "stdout",
     "output_type": "stream",
     "text": [
      "assistant, NA\n",
      "<|end_header_id|>, NA\n",
      "Tool, 1.0\n"
     ]
    }
   ],
   "source": [
    "question = \"You are a expert asked to classify text from a patent according to why the inventor may have used a scientific article in their invention. I will give you a chunk of text from a patent, and a reference that appears in the chunk. You will respond with ONE WORD ONLY: given that underlying distribution, return 'Tool' if you believe the reference was used a tool or technique by the inventor to make the invention, and 'Background' if it is general background knowledge, an unsolved problem the invention will tackle, a reason the invention was created, or a potential use case.The reference we care about is by PAGEL. The patent in question is titled Purinone compounds as kinase inhibitors.  The extract of text citing that article is: erican Lymphomaâ€ (REAL) classification system (see, e.g., the website maintained by the National Cancer Institute). \\\n",
    "     A number of animal models of are useful for establishing a range of therapeutically effective doses of reversible or irreversible Btk inhibitor compounds for treating any of the foregoing diseases. \\\n",
    "     For example, dosing of reversible or irreversible Btk inhibitor compounds for treating an autoimmune disease can be assessed in a mouse model of rheumatoid arthritis. In this model, arthritis is induced in Balb/c mice by administering anti-collagen antibodies and lipopolysaccharide. See Nandakumar et al. (2003),  Am. J. Pathol  163:1827-1837. \\\n",
    "     In another example, dosing of reversible or irreversible Btk inhibitors for the treatment of B-cell proliferative disorders can be examined in, e.g., a human-to-mouse xenograft model in which human B-cell lymphoma cells (e.g. Ramos cells) are implanted into immunodefficient mice (e.g., â€œnudeâ€ mice) as described in, e.g., Pagel et al. (2005), Clin Cancer Res 11(13):4857-4866. \\\n",
    "     Animal models for treatment of thromboembolic disorders are also known. \\\n",
    "     The therapeutic efficacy of the compound for one of the foregoing diseases can be optimized during a course of treatment. For example, a subject being treated can undergo a diagnostic evaluation to correlate the relief of disease symptoms or pathologies to inhibition of in vivo Btk activity achieved by administering a given dose of an irreversible Btk inhibitor. Cellular assays known in the art can be used to determine in vivo activity of Btk in the presence or absence of an irreversible Btk inhibitor. For example, since activated Btk is phosphorylated at tyrosine 223 (Y223) and tyrosine 551 (Y551), phospho-specific immunocytochemical staining of P-Y223 or P-Y551-positive cells can be used to detect or quantify activation of Bkt in a population of cells (e.g., by FACS analysis of stained vs unstained cells). See, e.g., Nisitani et al. (1999),  Proc. Natl. Acad. Sci, \"\n",
    "next_token(model, tokenizer, question)"
   ]
  },
  {
   "cell_type": "code",
   "execution_count": 34,
   "id": "98f4b568-a730-40f7-a4f6-63d484c64c2e",
   "metadata": {},
   "outputs": [
    {
     "name": "stdout",
     "output_type": "stream",
     "text": [
      "| I | NA\n"
     ]
    }
   ],
   "source": [
    "question = \"This is a \"\n",
    "next_token(model, tokenizer, question)"
   ]
  },
  {
   "cell_type": "markdown",
   "id": "b681b831-2ad5-4b73-b089-54a3bfcb87b7",
   "metadata": {},
   "source": [
    "### Read in data"
   ]
  },
  {
   "cell_type": "code",
   "execution_count": null,
   "id": "4960ac9b-293d-4ea8-aee1-d3f759e81d15",
   "metadata": {},
   "outputs": [],
   "source": [
    "import pandas as pd\n",
    "\n",
    "patent_data = pd.read_csv(\"data/patent_classification_data.csv\", encoding=\"utf-8\")\n",
    "print(patent_data.iloc[0,1])\n"
   ]
  },
  {
   "cell_type": "markdown",
   "id": "597c32cb-9f2a-4462-ac12-5b8b3c15ca19",
   "metadata": {
    "jp-MarkdownHeadingCollapsed": true
   },
   "source": [
    "## Test script"
   ]
  },
  {
   "cell_type": "code",
   "execution_count": null,
   "id": "61a130d0-7cc3-44b1-be85-20ccce3644e5",
   "metadata": {},
   "outputs": [],
   "source": []
  },
  {
   "cell_type": "code",
   "execution_count": 4,
   "id": "8bde236e-ff63-41ea-bb0d-0bc31589c994",
   "metadata": {},
   "outputs": [],
   "source": [
    "import patent_classification_llm"
   ]
  },
  {
   "cell_type": "code",
   "execution_count": 28,
   "id": "7042ba7c-108c-429c-8a6a-51f37071f8df",
   "metadata": {},
   "outputs": [
    {
     "data": {
      "text/plain": [
       "<module 'patent_classification_llm' from '/scratch/jgarc111/next-token-probability/patent_classification_llm.py'>"
      ]
     },
     "execution_count": 28,
     "metadata": {},
     "output_type": "execute_result"
    }
   ],
   "source": [
    "import importlib\n",
    "importlib.reload(patent_classification_llm)"
   ]
  },
  {
   "cell_type": "code",
   "execution_count": 29,
   "id": "89459837-b9ce-44b6-86d8-64b3cadce827",
   "metadata": {},
   "outputs": [
    {
     "name": "stderr",
     "output_type": "stream",
     "text": [
      "Special tokens have been added in the vocabulary, make sure the associated word embeddings are fine-tuned or trained.\n",
      "Loading checkpoint shards: 100%|██████████| 4/4 [00:05<00:00,  1.44s/it]\n",
      "/packages/envs/genai23.10/lib/python3.11/site-packages/transformers/generation/utils.py:1473: UserWarning: You have modified the pretrained model configuration to control generation. This is a deprecated strategy to control generation and will be removed soon, in a future version. Please use and modify the model generation configuration (see https://huggingface.co/docs/transformers/generation_strategies#default-text-generation-configuration )\n",
      "  warnings.warn(\n",
      "/packages/envs/genai23.10/lib/python3.11/site-packages/bitsandbytes/autograd/_functions.py:322: UserWarning: MatMul8bitLt: inputs will be cast from torch.bfloat16 to float16 during quantization\n",
      "  warnings.warn(f\"MatMul8bitLt: inputs will be cast from {A.dtype} to float16 during quantization\")\n",
      "/packages/envs/genai23.10/lib/python3.11/site-packages/bitsandbytes/autograd/_functions.py:322: UserWarning: MatMul8bitLt: inputs will be cast from torch.bfloat16 to float16 during quantization\n",
      "  warnings.warn(f\"MatMul8bitLt: inputs will be cast from {A.dtype} to float16 during quantization\")\n"
     ]
    }
   ],
   "source": [
    "patent_classification_llm.main(\"data/patent_classification_data.csv\", \"Llama3-8b-instruct/\", 4)"
   ]
  },
  {
   "cell_type": "markdown",
   "id": "feb8c157-cbd9-4d1d-a532-725fd6cb9630",
   "metadata": {},
   "source": [
    "## With Falcon-180B-chat"
   ]
  },
  {
   "cell_type": "code",
   "execution_count": 1,
   "id": "f6e33164-2bf7-4164-82cc-3d4b5d4571f7",
   "metadata": {},
   "outputs": [
    {
     "name": "stderr",
     "output_type": "stream",
     "text": [
      "/packages/envs/genai23.10/lib/python3.11/site-packages/tqdm/auto.py:21: TqdmWarning: IProgress not found. Please update jupyter and ipywidgets. See https://ipywidgets.readthedocs.io/en/stable/user_install.html\n",
      "  from .autonotebook import tqdm as notebook_tqdm\n"
     ]
    }
   ],
   "source": [
    "from transformers import AutoTokenizer, AutoModelForCausalLM\n",
    "from tqdm import tqdm\n",
    "import pandas as pd\n",
    "import numpy as np\n",
    "import argparse\n",
    "import torch\n",
    "import time\n",
    "import os\n",
    "\n",
    "os.environ['HUGGINGFACE_HUB_CACHE'] = \"/scratch/dshah47/.cache/\""
   ]
  },
  {
   "cell_type": "code",
   "execution_count": 2,
   "id": "34536bb1-76bb-47e5-9ea9-7f62e6f80610",
   "metadata": {},
   "outputs": [],
   "source": [
    "def load_model(llm):\n",
    "    model_id = os.environ['HUGGINGFACE_HUB_CACHE'] + 'licensed_models/' + llm\n",
    "    \n",
    "    tokenizer = AutoTokenizer.from_pretrained(model_id)\n",
    "    \n",
    "    model = AutoModelForCausalLM.from_pretrained(\n",
    "        model_id,\n",
    "        torch_dtype=torch.bfloat16,\n",
    "        device_map=\"auto\",\n",
    "        load_in_8bit=True\n",
    "    )\n",
    "    return(model, tokenizer)"
   ]
  },
  {
   "cell_type": "code",
   "execution_count": 3,
   "id": "7a6b5d29-50f0-47b6-80bb-5c6262554dbf",
   "metadata": {},
   "outputs": [],
   "source": [
    "def setup_inputs(question, tokenizer):\n",
    "    system_prompt = \"You are an expert asked to classify text from a patent according to why the inventor may have used a scientific article in their invention. I will give you a chunk of text from a patent, and a reference that appears in the chunk. You will respond with ONE WORD ONLY: return 'Tool' if you believe the reference was used by a tool or technique by the inventor to make the invention, or 'Background' if it is general background knowledge, an unsolved problem the invention will tackle, a reason the invention was created, or a potential use case. Remember, reply ONLY with Tool or Background.\"\n",
    "    # prompt = f\"[INST]<<SYS>>{system_prompt}<</SYS>> Question: {question} Answer:[/INST]\"\n",
    "    \n",
    "    prompt = \"\"\n",
    "    prompt += f\"System: {system_prompt}\\n\"\n",
    "    prompt += f\"User: {question}\\nFalcon:\"\n",
    "\n",
    "    inputs = tokenizer([prompt],\n",
    "                   return_tensors=\"pt\")\n",
    "    return(inputs)"
   ]
  },
  {
   "cell_type": "code",
   "execution_count": 4,
   "id": "fbdada4c-9e06-4a58-a286-1f05ea6ae442",
   "metadata": {},
   "outputs": [
    {
     "name": "stderr",
     "output_type": "stream",
     "text": [
      "You passed `quantization_config` to `from_pretrained` but the model you're loading already has a `quantization_config` attribute. The `quantization_config` attribute will be overwritten with the one you passed to `from_pretrained`.\n",
      "Loading checkpoint shards: 100%|██████████| 18/18 [03:44<00:00, 12.46s/it]\n"
     ]
    }
   ],
   "source": [
    "patent_data = pd.read_csv(\"../data/patent_classification_data.csv\", encoding=\"utf-8\")\n",
    "\n",
    "model, tokenizer = load_model(\"falcon-180B-chat\")"
   ]
  },
  {
   "cell_type": "code",
   "execution_count": null,
   "id": "8df0215c-e9ad-4166-bf91-a04f141b3bbf",
   "metadata": {},
   "outputs": [],
   "source": [
    "patent_data.iloc[0,1]"
   ]
  },
  {
   "cell_type": "code",
   "execution_count": 6,
   "id": "7e068b0a-560a-4668-a54e-4fc53c59ea49",
   "metadata": {},
   "outputs": [],
   "source": [
    "question = patent_data.iloc[0,1]\n",
    "\n",
    "inputs = setup_inputs(question, tokenizer)\n",
    "inputs.to(\"cuda\")\n",
    "\n",
    "output = model.generate(\n",
    "    input_ids=inputs[\"input_ids\"],\n",
    "    attention_mask=inputs[\"attention_mask\"],\n",
    "    max_new_tokens=2,\n",
    "    return_dict_in_generate=True,\n",
    "    output_scores=True,\n",
    "    temperature=0.0,\n",
    "    pad_token_id=tokenizer.eos_token_id\n",
    ")\n"
   ]
  },
  {
   "cell_type": "code",
   "execution_count": 7,
   "id": "a8aa2894-4c46-4c53-88f5-d490a001c8f6",
   "metadata": {},
   "outputs": [
    {
     "data": {
      "text/plain": [
       "\"GreedySearchDecoderOnlyOutput(sequences=tensor([[10721,    37,   781,   362,   267,  3816,  2425,   271, 42554,  2288,\\n           427,   241, 15860,  2938,   271,  1533,   248, 44585,   724,   413,\\n          1042,   241,  6963,  2507,   272,   525, 13217,    25,   295,   451,\\n          1444,   299,   241, 22207,   275,  2288,   427,   241, 15860,    23,\\n           273,   241,  5515,   325,  5741,   272,   248, 22207,    25,   781,\\n           451,  3869,   335, 20047,   367, 13951, 25977,    37,  1161,   204,\\n            18, 19933,    18,   565,   299,  2187,   248,  5515,   398,  1042,\\n           431,   241,  2119,   379,  7380,   431,   248, 44585,   271,   717,\\n           248, 13217,    23,   379,   204,    18, 20439,    18,   565,   334,\\n           304,  2679,  4359,  2882,    23,   267,  3971,  7522,  1375,   248,\\n         13217,   451, 13187,    23,   241,  1995,   248, 13217,   398,  2870,\\n            23,   379,   241,  2879,   745,  1494,    25, 10979,    23,  9137,\\n         25977,   335, 13072,   379, 26266,    25,   193,  7932,    37,   781,\\n           362,   241,  3816,  2425,   271, 42554,  2288,   427,   241, 15860,\\n          2938,   271,  1533,   248, 44585,   724,   413,  1042,   241,  6963,\\n          2507,   272,   525, 13217,    25,   295,   451,  1444,   299,   241,\\n         22207,   275,  2288,   427,   241, 15860,    23,   273,   241,  5515,\\n           325,  5741,   272,   248, 22207,    25,   781,   451,  3869,   335,\\n         20047,   367, 13951, 25977,    37,  2132,   325, 11489,  6615,    23,\\n          1161,   204,    18, 19933,    18,   565,   299,  2187,   248,  5515,\\n           398,  1042,   241,  2119,   379,  7380,   431,   248, 44585,   271,\\n           717,   248, 13217,    23,   273,   204,    18, 20439,    18,   565,\\n           334,   304,  2679,  4359,  2882,    23,   267,  3971,  7522,  1375,\\n           248, 13217,   451, 13187,    23,   241,  1995,   248, 13217,   398,\\n          2870,    23,   379,   241,  2879,   745,  1494,    25,   487,  5515,\\n           360,  1146,   544,   304,   431,   367,  4125, 11090,    25,   390,\\n         15860,   272,  2101,   304, 15026, 42027,  5906,  1542,   273,  4300,\\n           312,  9886, 14810,   312, 13930,  8376,  2586,    95,   470,  6429,\\n            25,   204,   390,  7297,   275,  2288, 26817,   325,  2507,   304,\\n            37,   204, 19708,   275,   267,   378,  2562, 51178, 36326,   378,\\n         43031,   418,   314,  8583,   431,  5593,  1877,  1497,   480,   416,\\n          3991,   271,    23,  6311, 21978,   273, 62402,  6078,  6112,    25,\\n          5364, 21518, 43031,   418,   314,  8960,   273, 38968,   427,   241,\\n          2597,  2324,    25,   529,   532, 37551,    23, 16940, 62402, 43957,\\n          1641,   362,  5389,   325, 44662,   267,   378, 41134,   275,   248,\\n         13217,    25, 36326,   529,  1382, 37551,    23, 16940, 62402, 43957,\\n          1641,   362,  5389,   325,  9850,  4020, 10277, 12828,  4301,   272,\\n         31656, 39367,   275,   267,   378, 41134,    25,   529,   241,  8957,\\n         37551,   275,   248, 13217,    23,   248,  6654,   325, 32352, 39367,\\n           275,   248,   378, 41134,   960,   416, 25338,   335,   701,  3743,\\n            25,   529,   241,  2005, 37551,    23,   248,  6654, 20601,  6434,\\n         10277,   304,   241, 22284,    76,    24,  9355, 32720, 41134,    23,\\n           963,   345,   248,  6654,  2930,   272,   241,   260,    60,    48,\\n         12586,   204,    19,    60,  5172, 29353,    23,  3670,    25,   204,\\n         35112,    36,   399,  1294, 10550,    23,   636,  1379,  8612,    23,\\n         30925,    25,   204, 47527,  1069,   691,  4232, 41134, 12828,  4301,\\n           312, 39367,  1965,    23,   480,   362,   416,  3991,   271,    23,\\n           248, 11108,   353, 53885,   242,   242, 14328,  6175, 13489,  7035,\\n          3430,  6175,   136,   235,  6654,    23,   585, 29617,   271,   267,\\n         20419,  1419, 13604,   427,   248, 23076, 11108,   353, 53885,   242,\\n           242,  6078,   204,    19, 57594,   886,   339,  1702,   204,  2747,\\n            31,   204,    23, 12803,   204,   204,  3597,    37, 46042,    20,\\n           273,   248, 14328,  6175, 13489, 25373,  3430,  6175,   136,   235,\\n          6654,    25, 36326,  1293,   362,   241,  1386,   275,  1104,  9456,\\n           325,   418,   314,  1042,   271,  5360,   273,  1274,  1888, 39749,\\n         43031,    25,   390,  9917, 10277,   275,   267,   378, 41134,   724,\\n           314, 40502,  1241,  4300,   779,  2245,   272,   248,  1076,   312,\\n           248, 24426,   275, 64784, 19740,    23,   293,    25,    82,  1702,\\n         62402,  9917,  5795,    23,   204,    19,  4267,    23,   312,  1945,\\n            23,   248,  5795,  5383,   272,   204,  9641, 22728,    94,   272,\\n         33493, 21414,   204,    23,   378,    25,   331,    25,  9107,   528,\\n           286,   886,   339,  1702,  1159,  1702,  2345, 44808,   204,    17,\\n          1006,    38, 33332,   204,    19,  1620,  5714,  2467,    23,  6118,\\n            23,   204,  1840,    35,   668,   204, 33493,  1156, 12856,    37,\\n           317, 21763, 18729,    23,   204,   204,    30,   343, 11488,    23,\\n           462,    25,   302,  1901,   290,  1264,   886,   339,  1702,  1159,\\n          1702, 15375,  8077, 22552, 21763,  5418,   204,    19, 41763,  8077,\\n         22552,    23,  6577,    23,   204,   853,    28,   770,  1148,   275,\\n           585,   362, 16902, 30801,   431,  5515,   691,  9917, 32117, 27240,\\n           267,   378, 41134,   362,  5389,   273, 17294, 16247,   679,   267,\\n          4901,  6112,  2597,  2324,    23,   963,   345,    23,   293,    25,\\n            82,  1702,   204,   399,    25, 43103,   204, 12543, 15995,  1868,\\n           204,    19,  4623,    30,   770,   273,   248,  6078,   304,  8960,\\n           273, 38968,  1241,  4300,  8117,   272,   248,  1076,    25,  1133,\\n          1945,    23,  6112,   275,   241, 10591, 27240,   248, 41134,   335,\\n           241,  1690, 32720,  6654,   418,   314,   204,   193,    49,   268,\\n          1043,    37, 13072,    11]], device='cuda:2'), scores=(tensor([[ -5.7188, -10.5625,  -9.9375,  ...,  -7.2500, -10.1875,  -5.9375]],\\n       device='cuda:2', dtype=torch.bfloat16), tensor([[-10.3125, -16.7500, -16.6250,  ..., -13.7500, -14.9375, -14.2500]],\\n       device='cuda:2', dtype=torch.bfloat16)), attentions=None, hidden_states=None)\""
      ]
     },
     "execution_count": 7,
     "metadata": {},
     "output_type": "execute_result"
    }
   ],
   "source": [
    "str(output)"
   ]
  },
  {
   "cell_type": "code",
   "execution_count": 9,
   "id": "3ab451d5-260d-4d5a-8f25-d919cf345837",
   "metadata": {},
   "outputs": [],
   "source": [
    "transition_scores = model.compute_transition_scores(\n",
    "    output.sequences,\n",
    "    output.scores,\n",
    "    normalize_logits=True\n",
    ")\n"
   ]
  },
  {
   "cell_type": "code",
   "execution_count": 10,
   "id": "f9dc34de-3236-4bb8-bb11-0c67f4a04239",
   "metadata": {},
   "outputs": [
    {
     "data": {
      "text/plain": [
       "\"tensor([[-0.5273, -0.1230]], device='cuda:2', dtype=torch.bfloat16)\""
      ]
     },
     "execution_count": 10,
     "metadata": {},
     "output_type": "execute_result"
    }
   ],
   "source": [
    "str(transition_scores)"
   ]
  },
  {
   "cell_type": "code",
   "execution_count": 14,
   "id": "17fe040e-e473-4cc1-a3bf-f47eccce3c6e",
   "metadata": {},
   "outputs": [],
   "source": [
    "def get_prob(word, score):\n",
    "    if word.lower() == 'tool':\n",
    "        p = np.exp(score.cpu().float().numpy())\n",
    "    elif word.lower() == 'background':\n",
    "        p = 1-np.exp(score.cpu().numpy())\n",
    "    else:\n",
    "        p = np.nan\n",
    "    return(p)"
   ]
  },
  {
   "cell_type": "code",
   "execution_count": 16,
   "id": "ff69a475-6855-4d29-8293-21c6c40c44c2",
   "metadata": {},
   "outputs": [
    {
     "name": "stdout",
     "output_type": "stream",
     "text": [
      "Tool 0.5901705\n"
     ]
    }
   ],
   "source": [
    "input_length = inputs.input_ids.shape[1]\n",
    "generated_tokens = output.sequences[:, input_length:]\n",
    "for tok, score in zip(generated_tokens[0], transition_scores[0]):\n",
    "    token_str = tokenizer.decode(tok).split()\n",
    "    if not token_str:\n",
    "        continue\n",
    "    token_str = token_str[0]\n",
    "    if token_str in [\"<|start_header_id|>\", \"<|endoftext|>\"]:\n",
    "        continue\n",
    "    print(token_str, get_prob(token_str, score))"
   ]
  }
 ],
 "metadata": {
  "kernelspec": {
   "display_name": "genai23.10",
   "language": "python",
   "name": "genai23.10"
  },
  "language_info": {
   "codemirror_mode": {
    "name": "ipython",
    "version": 3
   },
   "file_extension": ".py",
   "mimetype": "text/x-python",
   "name": "python",
   "nbconvert_exporter": "python",
   "pygments_lexer": "ipython3",
   "version": "3.11.5"
  }
 },
 "nbformat": 4,
 "nbformat_minor": 5
}
